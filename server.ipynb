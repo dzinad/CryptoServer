{
 "cells": [
  {
   "cell_type": "code",
   "execution_count": 1,
   "metadata": {},
   "outputs": [],
   "source": [
    "import http.server\n",
    "import socketserver"
   ]
  },
  {
   "cell_type": "code",
   "execution_count": 2,
   "metadata": {},
   "outputs": [],
   "source": [
    "path_public_rsa = 'public_rsa'\n",
    "path_get_file = 'get_file'\n",
    "path_session_key = 'session_key'\n",
    "path_login = 'login'\n",
    "key_public_exponent = 'exp'\n",
    "key_modulus = 'mod'\n",
    "key_filename = 'file'\n",
    "\n",
    "class MyHTTPRequestHandler(http.server.BaseHTTPRequestHandler):\n",
    "\n",
    "    def do_GET(self):\n",
    "        split_by_question = self.path.split('?')\n",
    "        path = split_by_question[0]\n",
    "        argument_dict = {}\n",
    "        if len(split_by_question) > 1:\n",
    "            argument_pairs = split_by_question[1].split('&')\n",
    "            for pair in argument_pairs:\n",
    "                key_and_value = pair.split('=')\n",
    "                argument_dict[key_and_value[0]] = key_and_value[1]\n",
    "        if (path[0] == '/'):\n",
    "            path = path[1:]\n",
    "        if path[-1] == '/':\n",
    "            path = path[:-1]\n",
    "        if path == path_public_rsa:\n",
    "            self.handle_public_rsa(argument_dict)\n",
    "        elif path == path_get_file:\n",
    "            self.handle_get_file(argument_dict)\n",
    "        elif path == path_session_key:\n",
    "            self.handle_session_key()\n",
    "        else:\n",
    "            self.send_response(404)\n",
    "            self.end_headers()            \n",
    "#        self.wfile.write(b'Hello, world!')\n",
    "\n",
    "    def do_POST(self):\n",
    "        split_by_question = self.path.split('?')\n",
    "        path = split_by_question[0]\n",
    "        if (path[0] == '/'):\n",
    "            path = path[1:]\n",
    "        if path[-1] == '/':\n",
    "            path = path[:-1]\n",
    "        if path == path_login:\n",
    "            self.handle_login()\n",
    "        else:\n",
    "            self.send_response(404)\n",
    "            self.end_headers()            \n",
    "#        self.wfile.write(b'Hello, world!')\n",
    "\n",
    "    def handle_login(self):\n",
    "        content_len = int(self.headers.get('Content-Length'))\n",
    "        post_body = self.rfile.read(content_len)\n",
    "        print('received post:', post_body)\n",
    "        # todo check login and password\n",
    "        self.send_response(200)\n",
    "        self.end_headers()            \n",
    "        self.wfile.write(b'OK')\n",
    "\n",
    "    def handle_public_rsa(self, arguments):\n",
    "        self.public_exponent = arguments[key_public_exponent]\n",
    "        self.modulus = arguments[key_modulus]\n",
    "        print('handle_public_rsa: exp:', self.public_exponent, ', modulus:', self.modulus)\n",
    "        self.send_response(200)\n",
    "        self.end_headers()                    \n",
    "\n",
    "    def handle_get_file(self, arguments):\n",
    "        self.filename = arguments[key_filename]\n",
    "        print('handle_get_file: ', self.filename)\n",
    "        # todo if file exists encrypt it with session key and send\n",
    "        self.send_response(200)\n",
    "        self.end_headers()                    \n",
    "\n",
    "    def handle_session_key(self):\n",
    "        print('handle_session_key')\n",
    "        # todo generate and remember session key, encrypt with public rsa and send\n",
    "        self.send_response(200)\n",
    "        self.end_headers()                    \n"
   ]
  },
  {
   "cell_type": "code",
   "execution_count": null,
   "metadata": {},
   "outputs": [
    {
     "name": "stdout",
     "output_type": "stream",
     "text": [
      "serving at port 8000\n",
      "received post: b'{\"username\":\"aaa\",\"password\":\"bbb\"}'\n"
     ]
    },
    {
     "name": "stderr",
     "output_type": "stream",
     "text": [
      "127.0.0.1 - - [22/Oct/2019 00:22:41] \"POST /login HTTP/1.1\" 200 -\n"
     ]
    },
    {
     "name": "stdout",
     "output_type": "stream",
     "text": [
      "received post: b'{\"username\":\"aaa\",\"password\":\"bbb\"}'\n"
     ]
    },
    {
     "name": "stderr",
     "output_type": "stream",
     "text": [
      "127.0.0.1 - - [22/Oct/2019 00:24:50] \"POST /login HTTP/1.1\" 200 -\n"
     ]
    },
    {
     "name": "stdout",
     "output_type": "stream",
     "text": [
      "received post: b'{\"username\":\"aaa\",\"password\":\"bbb\"}'\n"
     ]
    },
    {
     "name": "stderr",
     "output_type": "stream",
     "text": [
      "127.0.0.1 - - [22/Oct/2019 00:33:25] \"POST /login HTTP/1.1\" 200 -\n"
     ]
    },
    {
     "name": "stdout",
     "output_type": "stream",
     "text": [
      "received post: b'{\"username\":\"aaa\",\"password\":\"bbb\"}'\n"
     ]
    },
    {
     "name": "stderr",
     "output_type": "stream",
     "text": [
      "127.0.0.1 - - [22/Oct/2019 00:33:42] \"POST /login HTTP/1.1\" 200 -\n"
     ]
    }
   ],
   "source": [
    "port = 8000\n",
    "Handler = http.server.SimpleHTTPRequestHandler\n",
    "\n",
    "httpd = http.server.HTTPServer(('localhost', port), MyHTTPRequestHandler)\n",
    "print(\"serving at port\", port)\n",
    "httpd.serve_forever()"
   ]
  },
  {
   "cell_type": "code",
   "execution_count": null,
   "metadata": {},
   "outputs": [],
   "source": []
  }
 ],
 "metadata": {
  "kernelspec": {
   "display_name": "Python 3",
   "language": "python",
   "name": "python3"
  },
  "language_info": {
   "codemirror_mode": {
    "name": "ipython",
    "version": 3
   },
   "file_extension": ".py",
   "mimetype": "text/x-python",
   "name": "python",
   "nbconvert_exporter": "python",
   "pygments_lexer": "ipython3",
   "version": "3.7.3"
  }
 },
 "nbformat": 4,
 "nbformat_minor": 2
}
