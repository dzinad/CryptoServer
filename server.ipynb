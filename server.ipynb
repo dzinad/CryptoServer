{
 "cells": [
  {
   "cell_type": "code",
   "execution_count": 1,
   "metadata": {},
   "outputs": [],
   "source": [
    "import http.server\n",
    "import socketserver\n",
    "import json\n",
    "import time\n",
    "import os.path\n",
    "import Crypto\n",
    "from Crypto.PublicKey import RSA\n",
    "from Crypto.Cipher import AES\n",
    "from Crypto import Random\n",
    "import secrets\n",
    "import base64\n",
    "import hashlib"
   ]
  },
  {
   "cell_type": "code",
   "execution_count": 2,
   "metadata": {},
   "outputs": [],
   "source": [
    "current_time_millis = lambda: int(round(time.time() * 1000))"
   ]
  },
  {
   "cell_type": "code",
   "execution_count": 3,
   "metadata": {},
   "outputs": [],
   "source": [
    "path_public_rsa = 'public_rsa'\n",
    "path_get_file = 'get_file'\n",
    "path_session_key = 'session_key'\n",
    "path_login = 'login'\n",
    "key_public_exponent = 'exponent'\n",
    "key_modulus = 'modulus'\n",
    "key_filename = 'file'\n",
    "key_username = 'username'\n",
    "key_password = 'password'\n",
    "key_error = 'error'\n",
    "key_content = 'content'\n",
    "key_iv = 'iv'\n",
    "key_extra_symbols = 'extra_symbols'\n",
    "session_key_expiration_period = 1 * 60 * 1000 # 1 minute\n",
    "public_key_filename = 'public_key.txt'\n",
    "\n",
    "class SessionKey:\n",
    "    \n",
    "    def __init__(self, key):\n",
    "        self.key = key\n",
    "        self.created = current_time_millis()\n",
    "    \n",
    "    def is_expired(self):\n",
    "        return current_time_millis() - self.created > session_key_expiration_period\n",
    "    \n",
    "class DataHolder:\n",
    "    \n",
    "    def __init__(self):\n",
    "        self.session_key = None\n",
    "        self.public_exponent = None\n",
    "        self.modulus = None\n",
    "        if os.path.isfile(public_key_filename): \n",
    "            file = open(\"public_key.txt\", \"r\")\n",
    "            content = file.read()\n",
    "            if (content is not None) and (len(content) > 0):\n",
    "                try:\n",
    "                    json_public_key = json.loads(content)\n",
    "                    self.public_exponent = int(json_public_key[key_public_exponent])\n",
    "                    self.modulus = int(json_public_key[key_modulus])\n",
    "                except Exception as e:\n",
    "                    print(e)\n",
    "        print('initial exponent: ', self.public_exponent, ', modulus:', self.modulus)\n",
    "        \n",
    "    def check_username_and_password(self, username, password_json):\n",
    "        if not os.path.isfile(username + '.txt'):\n",
    "            return 'WRONG_USERNAME'\n",
    "        if self.session_key is None:\n",
    "            return 'NO_SESSION_KEY'\n",
    "        try:\n",
    "        iv = base64.b64decode(bytes(password_json[key_iv], 'utf-8'))\n",
    "        encrypted_password = base64.b64decode(bytes(password_json[key_content], 'utf-8'))\n",
    "        aes = AES.new(self.session_key.key, AES.MODE_OFB, iv)\n",
    "        extra_symbols = password_json[key_extra_symbols]\n",
    "        decrypted_password = aes.decrypt(encrypted_password)[:-extra_symbols]\n",
    "        decrypted_password_hash = hashlib.md5(decrypted_password).hexdigest()\n",
    "        file = open(username + '.txt', 'r')\n",
    "        actual_password_hash = file.read()\n",
    "        file.close()\n",
    "        if decrypted_password_hash != actual_password_hash:\n",
    "            return 'WRONG_PASSWORD'\n",
    "        else:\n",
    "            return 'OK'\n",
    "        except Exception as e:\n",
    "            print(e)\n",
    "        return 'ERROR'\n",
    "\n",
    "    def get_string_from_bytes(self, bytes_arr):\n",
    "        return str(base64.b64encode(bytes_arr), \"utf-8\")\n",
    "    \n",
    "    def get_file_response(self, filename):\n",
    "        response = {}\n",
    "        if self.session_key is None or self.session_key.is_expired():\n",
    "            response[key_error] = 'session_key_expired'\n",
    "        elif not os.path.isfile(filename):\n",
    "            response[key_error] = 'no_file'\n",
    "        else:\n",
    "            iv = Random.new().read(16)\n",
    "            aes = AES.new(self.session_key.key, AES.MODE_OFB, iv)\n",
    "            \n",
    "            file = open(filename, \"r\")\n",
    "            file_content = file.read()\n",
    "            file.close()\n",
    "                \n",
    "            extra_symbols = 16 - len(file_content) % 16\n",
    "            extra_data = ' ' * extra_symbols\n",
    "            file_content += extra_data\n",
    "            response[key_content] = self.get_string_from_bytes(aes.encrypt(file_content))\n",
    "            response[key_iv] = self.get_string_from_bytes(iv)\n",
    "            response[key_extra_symbols] = extra_symbols\n",
    "        return json.dumps(response)"
   ]
  },
  {
   "cell_type": "code",
   "execution_count": 4,
   "metadata": {},
   "outputs": [
    {
     "name": "stdout",
     "output_type": "stream",
     "text": [
      "initial exponent:  65537 , modulus: 72822657943202290206626939526234807206638650338287413590814555771313692244033\n"
     ]
    }
   ],
   "source": [
    "data_holder = DataHolder()\n",
    "\n",
    "class MyHTTPRequestHandler(http.server.BaseHTTPRequestHandler):\n",
    "\n",
    "    def do_GET(self):\n",
    "        split_by_question = self.path.split('?')\n",
    "        path = split_by_question[0]\n",
    "        argument_dict = {}\n",
    "        if len(split_by_question) > 1:\n",
    "            argument_pairs = split_by_question[1].split('&')\n",
    "            for pair in argument_pairs:\n",
    "                key_and_value = pair.split('=')\n",
    "                argument_dict[key_and_value[0]] = key_and_value[1]\n",
    "        if (path[0] == '/'):\n",
    "            path = path[1:]\n",
    "        if path[-1] == '/':\n",
    "            path = path[:-1]\n",
    "        if path == path_get_file:\n",
    "            self.handle_get_file(argument_dict)\n",
    "        elif path == path_session_key:\n",
    "            self.handle_session_key()\n",
    "        else:\n",
    "            self.send_response(404)\n",
    "            self.end_headers()            \n",
    "\n",
    "    def do_POST(self):\n",
    "        split_by_question = self.path.split('?')\n",
    "        path = split_by_question[0]\n",
    "        if (path[0] == '/'):\n",
    "            path = path[1:]\n",
    "        if path[-1] == '/':\n",
    "            path = path[:-1]\n",
    "        content_len = int(self.headers.get('Content-Length'))\n",
    "        post_body = self.rfile.read(content_len)\n",
    "        if path == path_login:\n",
    "            self.handle_login(post_body)\n",
    "        elif path == path_public_rsa:\n",
    "            self.handle_public_rsa(post_body)\n",
    "        else:\n",
    "            self.send_response(404)\n",
    "            self.end_headers()            \n",
    "\n",
    "    def handle_login(self, post_body):\n",
    "        print('received post:', post_body)\n",
    "        try:\n",
    "            post_json = json.loads(post_body)\n",
    "            username = post_json[key_username]\n",
    "            password_json = json.loads(post_json[key_password])\n",
    "            result = data_holder.check_username_and_password(username, password_json)\n",
    "            print('username:', username)\n",
    "            self.send_response(200)\n",
    "            self.end_headers()            \n",
    "            self.wfile.write(bytearray(result, 'utf8'))\n",
    "        except Exception as e:\n",
    "            print(e)\n",
    "            self.send_response(413)\n",
    "            self.end_headers()                        \n",
    "\n",
    "    def handle_public_rsa(self, post_body):\n",
    "        try:\n",
    "            post_json = json.loads(post_body)\n",
    "            data_holder.public_exponent = int(post_json[key_public_exponent])\n",
    "            data_holder.modulus = int(post_json[key_modulus])\n",
    "            json_public_key = {}\n",
    "            json_public_key[key_public_exponent] = data_holder.public_exponent\n",
    "            json_public_key[key_modulus] = data_holder.modulus\n",
    "            file = open(public_key_filename, \"w+\")\n",
    "            file.write(json.dumps(json_public_key))\n",
    "            file.close()\n",
    "            print('handle_public_rsa: exp:', data_holder.public_exponent, ', modulus:', data_holder.modulus)\n",
    "            self.send_response(200)\n",
    "            self.end_headers()     \n",
    "        except Exception as e:\n",
    "            print(e)\n",
    "            self.send_response(413)\n",
    "            self.end_headers()     \n",
    "\n",
    "    def handle_get_file(self, arguments):\n",
    "        try:\n",
    "            filename = arguments[key_filename]\n",
    "            print('handle_get_file: ', filename)\n",
    "            response = data_holder.get_file_response(filename)\n",
    "            self.send_response(200)\n",
    "            self.end_headers()    \n",
    "            self.wfile.write(bytes(response, 'utf-8'))\n",
    "        except Exception as e:\n",
    "            print(e)\n",
    "            self.send_response(413)\n",
    "            self.end_headers()    \n",
    "\n",
    "    def handle_session_key(self):\n",
    "        print('handle_session_key')\n",
    "        try:\n",
    "            session_key = secrets.token_bytes(32)\n",
    "            data_holder.session_key = SessionKey(session_key)\n",
    "            public_key = RSA.construct((data_holder.modulus, data_holder.public_exponent))\n",
    "            encrypted_session_key = public_key.encrypt(session_key, None)\n",
    "\n",
    "            self.send_response(200)\n",
    "            self.end_headers()    \n",
    "            self.wfile.write(encrypted_session_key[0])\n",
    "        except Exception as e:\n",
    "            print(e)\n",
    "            self.send_response(413)\n",
    "            self.end_headers()                    "
   ]
  },
  {
   "cell_type": "code",
   "execution_count": null,
   "metadata": {},
   "outputs": [
    {
     "name": "stdout",
     "output_type": "stream",
     "text": [
      "serving at port 8000\n",
      "handle_session_key\n"
     ]
    },
    {
     "name": "stderr",
     "output_type": "stream",
     "text": [
      "127.0.0.1 - - [23/Oct/2019 23:49:36] \"GET /session_key HTTP/1.1\" 200 -\n"
     ]
    },
    {
     "name": "stdout",
     "output_type": "stream",
     "text": [
      "received post: b'{\"username\":\"dzina\",\"password\":\"{\\\\\"content\\\\\":\\\\\"56chJXkeJ0c21bh8MwXX3Q==\\\\\\\\n\\\\\",\\\\\"iv\\\\\":\\\\\"gGYFRaFYpCOu3G2QnL96fg==\\\\\\\\n\\\\\",\\\\\"extra_symbols\\\\\":9}\"}'\n",
      "encrypted_password: b\"\\xe7\\xa7!%y\\x1e'G6\\xd5\\xb8|3\\x05\\xd7\\xdd\" iv: b'\\x80f\\x05E\\xa1X\\xa4#\\xae\\xdcm\\x90\\x9c\\xbfz~'\n",
      "decrypted_password: b'TM\\x1a\\x954\\x18i'\n",
      "username: dzina\n"
     ]
    },
    {
     "name": "stderr",
     "output_type": "stream",
     "text": [
      "127.0.0.1 - - [23/Oct/2019 23:49:48] \"POST /login HTTP/1.1\" 200 -\n"
     ]
    },
    {
     "name": "stdout",
     "output_type": "stream",
     "text": [
      "handle_public_rsa: exp: 65537 , modulus: 92707137204447428270081704947984099451030584690215633445543209833146268241119\n"
     ]
    },
    {
     "name": "stderr",
     "output_type": "stream",
     "text": [
      "127.0.0.1 - - [23/Oct/2019 23:55:21] \"POST /public_rsa/ HTTP/1.1\" 200 -\n"
     ]
    },
    {
     "name": "stdout",
     "output_type": "stream",
     "text": [
      "handle_public_rsa: exp: 65537 , modulus: 86987200207484533783765912277075231127425330038935410153549302981969777758463\n"
     ]
    },
    {
     "name": "stderr",
     "output_type": "stream",
     "text": [
      "127.0.0.1 - - [24/Oct/2019 00:01:02] \"POST /public_rsa/ HTTP/1.1\" 200 -\n"
     ]
    },
    {
     "name": "stdout",
     "output_type": "stream",
     "text": [
      "handle_public_rsa: exp: 65537 , modulus: 85501752830711350239851329622119042915837932257661061827840794910035839234849\n"
     ]
    },
    {
     "name": "stderr",
     "output_type": "stream",
     "text": [
      "127.0.0.1 - - [24/Oct/2019 00:01:52] \"POST /public_rsa/ HTTP/1.1\" 200 -\n"
     ]
    },
    {
     "name": "stdout",
     "output_type": "stream",
     "text": [
      "handle_public_rsa: exp: 65537 , modulus: 96060268435324446132581842003125446202967871248321042746618000297125545507771\n"
     ]
    },
    {
     "name": "stderr",
     "output_type": "stream",
     "text": [
      "127.0.0.1 - - [24/Oct/2019 00:02:01] \"POST /public_rsa/ HTTP/1.1\" 200 -\n"
     ]
    },
    {
     "name": "stdout",
     "output_type": "stream",
     "text": [
      "handle_public_rsa: exp: 65537 , modulus: 75138765575350402194005960140778213410529815935782661915531698659385618649637\n"
     ]
    },
    {
     "name": "stderr",
     "output_type": "stream",
     "text": [
      "127.0.0.1 - - [24/Oct/2019 00:03:44] \"POST /public_rsa/ HTTP/1.1\" 200 -\n"
     ]
    },
    {
     "name": "stdout",
     "output_type": "stream",
     "text": [
      "handle_public_rsa: exp: 65537 , modulus: 98433909956782894363220406791892463557697575607118401520533117830520377307477\n"
     ]
    },
    {
     "name": "stderr",
     "output_type": "stream",
     "text": [
      "127.0.0.1 - - [24/Oct/2019 00:04:55] \"POST /public_rsa/ HTTP/1.1\" 200 -\n"
     ]
    },
    {
     "name": "stdout",
     "output_type": "stream",
     "text": [
      "handle_session_key\n"
     ]
    },
    {
     "name": "stderr",
     "output_type": "stream",
     "text": [
      "127.0.0.1 - - [24/Oct/2019 00:08:02] \"GET /session_key HTTP/1.1\" 200 -\n"
     ]
    },
    {
     "name": "stdout",
     "output_type": "stream",
     "text": [
      "received post: b'{\"username\":\"dzina\",\"password\":\"{\\\\\"content\\\\\":\\\\\"5n2qBhze1X7dLYQfJu23DQ==\\\\\\\\n\\\\\",\\\\\"iv\\\\\":\\\\\"p6KihvqIKm5DSt8CZNC2Hg==\\\\\\\\n\\\\\",\\\\\"extra_symbols\\\\\":10}\"}'\n",
      "encrypted_password: b'\\xe6}\\xaa\\x06\\x1c\\xde\\xd5~\\xdd-\\x84\\x1f&\\xed\\xb7\\r' iv: b'\\xa7\\xa2\\xa2\\x86\\xfa\\x88*nCJ\\xdf\\x02d\\xd0\\xb6\\x1e'\n",
      "decrypted_password: b'ddzina'\n",
      "username: dzina\n"
     ]
    },
    {
     "name": "stderr",
     "output_type": "stream",
     "text": [
      "127.0.0.1 - - [24/Oct/2019 00:08:20] \"POST /login HTTP/1.1\" 200 -\n"
     ]
    },
    {
     "name": "stdout",
     "output_type": "stream",
     "text": [
      "handle_session_key\n"
     ]
    },
    {
     "name": "stderr",
     "output_type": "stream",
     "text": [
      "127.0.0.1 - - [24/Oct/2019 00:10:30] \"GET /session_key HTTP/1.1\" 200 -\n"
     ]
    },
    {
     "name": "stdout",
     "output_type": "stream",
     "text": [
      "handle_get_file:  part2.txt\n",
      "'utf-8' codec can't decode byte 0xff in position 0: invalid start byte\n"
     ]
    },
    {
     "name": "stderr",
     "output_type": "stream",
     "text": [
      "127.0.0.1 - - [24/Oct/2019 00:10:37] \"GET /get_file?file=part2.txt HTTP/1.1\" 413 -\n"
     ]
    },
    {
     "name": "stdout",
     "output_type": "stream",
     "text": [
      "handle_get_file:  part1.txt\n"
     ]
    },
    {
     "name": "stderr",
     "output_type": "stream",
     "text": [
      "127.0.0.1 - - [24/Oct/2019 00:10:58] \"GET /get_file?file=part1.txt HTTP/1.1\" 200 -\n"
     ]
    },
    {
     "name": "stdout",
     "output_type": "stream",
     "text": [
      "received post: b'{\"username\":\"sweta\",\"password\":\"{\\\\\"content\\\\\":\\\\\"WLDjKZuQglNBTbgu7TKj5A==\\\\\\\\n\\\\\",\\\\\"iv\\\\\":\\\\\"KAQizajCvjcjAa8BxWe+CA==\\\\\\\\n\\\\\",\\\\\"extra_symbols\\\\\":13}\"}'\n",
      "encrypted_password: b'X\\xb0\\xe3)\\x9b\\x90\\x82SAM\\xb8.\\xed2\\xa3\\xe4' iv: b'(\\x04\"\\xcd\\xa8\\xc2\\xbe7#\\x01\\xaf\\x01\\xc5g\\xbe\\x08'\n",
      "decrypted_password: b'qqq'\n",
      "username: sweta\n"
     ]
    },
    {
     "name": "stderr",
     "output_type": "stream",
     "text": [
      "127.0.0.1 - - [24/Oct/2019 00:11:29] \"POST /login HTTP/1.1\" 200 -\n"
     ]
    },
    {
     "name": "stdout",
     "output_type": "stream",
     "text": [
      "received post: b'{\"username\":\"swetaa\",\"password\":\"{\\\\\"content\\\\\":\\\\\"6q\\\\\\\\\\\\/teq+I329MvTRmUMtq0w==\\\\\\\\n\\\\\",\\\\\"iv\\\\\":\\\\\"N0KDFsl2QhWxJViGFGTEZA==\\\\\\\\n\\\\\",\\\\\"extra_symbols\\\\\":13}\"}'\n",
      "username: swetaa\n"
     ]
    },
    {
     "name": "stderr",
     "output_type": "stream",
     "text": [
      "127.0.0.1 - - [24/Oct/2019 00:11:35] \"POST /login HTTP/1.1\" 200 -\n"
     ]
    },
    {
     "name": "stdout",
     "output_type": "stream",
     "text": [
      "received post: b'{\"username\":\"sweta\",\"password\":\"{\\\\\"content\\\\\":\\\\\"YHDgEM4+7F5Bj4GyFL71zA==\\\\\\\\n\\\\\",\\\\\"iv\\\\\":\\\\\"VSKTSy2U69pl3jcRipgrHg==\\\\\\\\n\\\\\",\\\\\"extra_symbols\\\\\":10}\"}'\n",
      "encrypted_password: b'`p\\xe0\\x10\\xce>\\xec^A\\x8f\\x81\\xb2\\x14\\xbe\\xf5\\xcc' iv: b'U\"\\x93K-\\x94\\xeb\\xdae\\xde7\\x11\\x8a\\x98+\\x1e'\n",
      "decrypted_password: b'sqeeta'\n",
      "username: sweta\n"
     ]
    },
    {
     "name": "stderr",
     "output_type": "stream",
     "text": [
      "127.0.0.1 - - [24/Oct/2019 00:11:44] \"POST /login HTTP/1.1\" 200 -\n"
     ]
    },
    {
     "name": "stdout",
     "output_type": "stream",
     "text": [
      "received post: b'{\"username\":\"sweta\",\"password\":\"{\\\\\"content\\\\\":\\\\\"Mu7JSVKTA\\\\\\\\\\\\/z6DI+f4CcscA==\\\\\\\\n\\\\\",\\\\\"iv\\\\\":\\\\\"YRQxTpYAMpv06bMO7\\\\\\\\\\\\/Me9Q==\\\\\\\\n\\\\\",\\\\\"extra_symbols\\\\\":10}\"}'\n",
      "encrypted_password: b\"2\\xee\\xc9IR\\x93\\x03\\xfc\\xfa\\x0c\\x8f\\x9f\\xe0',p\" iv: b'a\\x141N\\x96\\x002\\x9b\\xf4\\xe9\\xb3\\x0e\\xef\\xf3\\x1e\\xf5'\n",
      "decrypted_password: b'ssweta'\n",
      "username: sweta\n"
     ]
    },
    {
     "name": "stderr",
     "output_type": "stream",
     "text": [
      "127.0.0.1 - - [24/Oct/2019 00:11:49] \"POST /login HTTP/1.1\" 200 -\n"
     ]
    }
   ],
   "source": [
    "port = 8000\n",
    "Handler = http.server.SimpleHTTPRequestHandler\n",
    "\n",
    "httpd = http.server.HTTPServer(('localhost', port), MyHTTPRequestHandler)\n",
    "print(\"serving at port\", port)\n",
    "httpd.serve_forever()"
   ]
  },
  {
   "cell_type": "code",
   "execution_count": null,
   "metadata": {},
   "outputs": [],
   "source": []
  }
 ],
 "metadata": {
  "kernelspec": {
   "display_name": "Python 3",
   "language": "python",
   "name": "python3"
  },
  "language_info": {
   "codemirror_mode": {
    "name": "ipython",
    "version": 3
   },
   "file_extension": ".py",
   "mimetype": "text/x-python",
   "name": "python",
   "nbconvert_exporter": "python",
   "pygments_lexer": "ipython3",
   "version": "3.7.3"
  }
 },
 "nbformat": 4,
 "nbformat_minor": 2
}
