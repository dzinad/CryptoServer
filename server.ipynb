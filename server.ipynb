{
 "cells": [
  {
   "cell_type": "code",
   "execution_count": 1,
   "metadata": {},
   "outputs": [],
   "source": [
    "import http.server\n",
    "import socketserver\n",
    "import json\n",
    "import time"
   ]
  },
  {
   "cell_type": "code",
   "execution_count": 2,
   "metadata": {},
   "outputs": [],
   "source": [
    "current_time_millis = lambda: int(round(time.time() * 1000))"
   ]
  },
  {
   "cell_type": "code",
   "execution_count": 3,
   "metadata": {},
   "outputs": [],
   "source": [
    "path_public_rsa = 'public_rsa'\n",
    "path_get_file = 'get_file'\n",
    "path_session_key = 'session_key'\n",
    "path_login = 'login'\n",
    "key_public_exponent = 'exponent'\n",
    "key_modulus = 'modulus'\n",
    "key_filename = 'file'\n",
    "key_username = 'username'\n",
    "key_password = 'password'\n",
    "key_error = 'error'\n",
    "key_content = 'content'\n",
    "session_key_expiration_period = 1 * 60 * 1000 # 1 minute\n",
    "\n",
    "class SessionKey:\n",
    "    \n",
    "    def __init__(self, key):\n",
    "        self.key = key\n",
    "        self.created = current_time_millis()\n",
    "    \n",
    "    def is_expired(self):\n",
    "        return current_time_millis() - self.created > session_key_expiration_period\n",
    "    \n",
    "class DataHolder:\n",
    "    \n",
    "    def __init__(self):\n",
    "        self.session_key = None\n",
    "        self.public_exponent = None\n",
    "        self.modulus = None\n",
    "        \n",
    "    def check_username_and_password(self, username, password):\n",
    "        # todo add logic. possible answers: OK, WRONG_USERNAME, WRONG_PASSWORD, ERROR\n",
    "        return 'OK'\n",
    "    \n",
    "    def file_exists(self, filename):\n",
    "        # todo add logic\n",
    "        return True\n",
    "    \n",
    "    def get_file_response(self, filename):\n",
    "        response = {}\n",
    "        if self.session_key is None or self.session_key.is_expired():\n",
    "            response[key_error] = 'session_key_expired'\n",
    "        elif not data_holder.file_exists(filename):\n",
    "            response[key_error] = 'no_file'\n",
    "        else:\n",
    "            response[key_content] = 'file content' # todo replace with real encrypted content:\n",
    "            #content in json format:\n",
    "            # {\n",
    "            #    \"text\": encrypted text,\n",
    "            #    \"iv\": iv used for aes encryption\n",
    "            #}\n",
    "        return json.dumps(response)"
   ]
  },
  {
   "cell_type": "code",
   "execution_count": 4,
   "metadata": {},
   "outputs": [],
   "source": [
    "data_holder = DataHolder()\n",
    "\n",
    "class MyHTTPRequestHandler(http.server.BaseHTTPRequestHandler):\n",
    "\n",
    "    def do_GET(self):\n",
    "        split_by_question = self.path.split('?')\n",
    "        path = split_by_question[0]\n",
    "        argument_dict = {}\n",
    "        if len(split_by_question) > 1:\n",
    "            argument_pairs = split_by_question[1].split('&')\n",
    "            for pair in argument_pairs:\n",
    "                key_and_value = pair.split('=')\n",
    "                argument_dict[key_and_value[0]] = key_and_value[1]\n",
    "        if (path[0] == '/'):\n",
    "            path = path[1:]\n",
    "        if path[-1] == '/':\n",
    "            path = path[:-1]\n",
    "        if path == path_get_file:\n",
    "            self.handle_get_file(argument_dict)\n",
    "        elif path == path_session_key:\n",
    "            self.handle_session_key()\n",
    "        else:\n",
    "            self.send_response(404)\n",
    "            self.end_headers()            \n",
    "\n",
    "    def do_POST(self):\n",
    "        split_by_question = self.path.split('?')\n",
    "        path = split_by_question[0]\n",
    "        if (path[0] == '/'):\n",
    "            path = path[1:]\n",
    "        if path[-1] == '/':\n",
    "            path = path[:-1]\n",
    "        content_len = int(self.headers.get('Content-Length'))\n",
    "        post_body = self.rfile.read(content_len)\n",
    "        if path == path_login:\n",
    "            self.handle_login(post_body)\n",
    "        elif path == path_public_rsa:\n",
    "            self.handle_public_rsa(post_body)\n",
    "        else:\n",
    "            self.send_response(404)\n",
    "            self.end_headers()            \n",
    "\n",
    "    def handle_login(self, post_body):\n",
    "        print('received post:', post_body)\n",
    "        try:\n",
    "            post_json = json.loads(post_body)\n",
    "            username = post_json[key_username]\n",
    "            password = post_json[key_password]\n",
    "            result = data_holder.check_username_and_password(username, password)\n",
    "            print('username:', username, 'password:', password)\n",
    "            self.send_response(200)\n",
    "            self.end_headers()            \n",
    "            self.wfile.write(bytearray(result, 'utf8'))\n",
    "        except Exception as e:\n",
    "            print(e)\n",
    "            self.send_response(413)\n",
    "            self.end_headers()                        \n",
    "\n",
    "    def handle_public_rsa(self, post_body):\n",
    "        try:\n",
    "            post_json = json.loads(post_body)\n",
    "            data_holder.public_exponent = post_json[key_public_exponent]\n",
    "            data_holder.modulus = post_json[key_modulus]\n",
    "            # todo save public key in case server is restarted\n",
    "            print('handle_public_rsa: exp:', data_holder.public_exponent, ', modulus:', data_holder.modulus)\n",
    "            self.send_response(200)\n",
    "            self.end_headers()     \n",
    "        except Exception as e:\n",
    "            print(e)\n",
    "            self.send_response(413)\n",
    "            self.end_headers()     \n",
    "\n",
    "    def handle_get_file(self, arguments):\n",
    "        try:\n",
    "            filename = arguments[key_filename]\n",
    "            print('handle_get_file: ', filename)\n",
    "            response = data_holder.get_file_response(filename)\n",
    "            self.send_response(200)\n",
    "            self.end_headers()    \n",
    "            self.wfile.write(bytearray(response, 'utf8'))\n",
    "        except Exception as e:\n",
    "            print(e)\n",
    "            self.send_response(413)\n",
    "            self.end_headers()    \n",
    "\n",
    "    def handle_session_key(self):\n",
    "        print('handle_session_key')\n",
    "        try:\n",
    "            # todo send this key to client (encrypted with RSA)\n",
    "            data_holder.session_key = SessionKey(\"todo: generate random key\")\n",
    "            self.send_response(200)\n",
    "            self.end_headers()                    \n",
    "        except Exception as e:\n",
    "            print(e)\n",
    "            self.send_response(413)\n",
    "            self.end_headers()                    "
   ]
  },
  {
   "cell_type": "code",
   "execution_count": null,
   "metadata": {},
   "outputs": [
    {
     "name": "stdout",
     "output_type": "stream",
     "text": [
      "serving at port 8000\n",
      "handle_get_file:  hhh\n"
     ]
    },
    {
     "name": "stderr",
     "output_type": "stream",
     "text": [
      "127.0.0.1 - - [22/Oct/2019 21:54:19] \"GET /get_file?file=hhh HTTP/1.1\" 200 -\n"
     ]
    },
    {
     "name": "stdout",
     "output_type": "stream",
     "text": [
      "handle_session_key\n"
     ]
    },
    {
     "name": "stderr",
     "output_type": "stream",
     "text": [
      "127.0.0.1 - - [22/Oct/2019 21:54:24] \"GET /session_key HTTP/1.1\" 200 -\n"
     ]
    },
    {
     "name": "stdout",
     "output_type": "stream",
     "text": [
      "handle_get_file:  uuu\n"
     ]
    },
    {
     "name": "stderr",
     "output_type": "stream",
     "text": [
      "127.0.0.1 - - [22/Oct/2019 21:54:28] \"GET /get_file?file=uuu HTTP/1.1\" 200 -\n"
     ]
    }
   ],
   "source": [
    "port = 8000\n",
    "Handler = http.server.SimpleHTTPRequestHandler\n",
    "\n",
    "httpd = http.server.HTTPServer(('localhost', port), MyHTTPRequestHandler)\n",
    "print(\"serving at port\", port)\n",
    "httpd.serve_forever()"
   ]
  },
  {
   "cell_type": "code",
   "execution_count": null,
   "metadata": {},
   "outputs": [],
   "source": []
  }
 ],
 "metadata": {
  "kernelspec": {
   "display_name": "Python 3",
   "language": "python",
   "name": "python3"
  },
  "language_info": {
   "codemirror_mode": {
    "name": "ipython",
    "version": 3
   },
   "file_extension": ".py",
   "mimetype": "text/x-python",
   "name": "python",
   "nbconvert_exporter": "python",
   "pygments_lexer": "ipython3",
   "version": "3.7.3"
  }
 },
 "nbformat": 4,
 "nbformat_minor": 2
}
